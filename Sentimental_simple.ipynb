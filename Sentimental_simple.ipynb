{
  "nbformat": 4,
  "nbformat_minor": 0,
  "metadata": {
    "colab": {
      "provenance": []
    },
    "kernelspec": {
      "name": "python3",
      "display_name": "Python 3"
    },
    "language_info": {
      "name": "python"
    }
  },
  "cells": [
    {
      "cell_type": "code",
      "source": [
        "!pip3 install -q transformers\n",
        "from transformers import pipeline"
      ],
      "metadata": {
        "id": "CafwnU8m2RqC"
      },
      "execution_count": 46,
      "outputs": []
    },
    {
      "cell_type": "markdown",
      "source": [
        "**Link to the sentimental analysis modal**\n",
        "\n",
        "[Sentimental Analysis pretrained model](https://huggingface.co/models?pipeline_tag=text-classification&sort=downloads&search=sentiment)"
      ],
      "metadata": {
        "id": "AHjR-U4O2aTA"
      }
    },
    {
      "cell_type": "code",
      "source": [
        "sentiment_pipeline = pipeline(\"sentiment-analysis\")\n",
        "data = [\"That's a fantastic news\", \"I am not happy with the progress\"]\n",
        "sentiment_pipeline(data)"
      ],
      "metadata": {
        "colab": {
          "base_uri": "https://localhost:8080/"
        },
        "id": "9fVXie1b2oqV",
        "outputId": "b99108fb-d7e9-4021-f36c-a9b5844c3f15"
      },
      "execution_count": null,
      "outputs": [
        {
          "output_type": "stream",
          "name": "stderr",
          "text": [
            "No model was supplied, defaulted to distilbert-base-uncased-finetuned-sst-2-english and revision af0f99b (https://huggingface.co/distilbert-base-uncased-finetuned-sst-2-english).\n",
            "Using a pipeline without specifying a model name and revision in production is not recommended.\n"
          ]
        },
        {
          "output_type": "execute_result",
          "data": {
            "text/plain": [
              "[{'label': 'POSITIVE', 'score': 0.9998869895935059},\n",
              " {'label': 'NEGATIVE', 'score': 0.9997530579566956}]"
            ]
          },
          "metadata": {},
          "execution_count": 7
        }
      ]
    },
    {
      "cell_type": "markdown",
      "source": [
        "**Download The Custom Model**"
      ],
      "metadata": {
        "id": "WYvDGoem8nsp"
      }
    },
    {
      "cell_type": "code",
      "source": [
        "sentiment_pipeline = pipeline(model = \"cardiffnlp/twitter-roberta-base-sentiment\")"
      ],
      "metadata": {
        "id": "08VDsa2F2_3M"
      },
      "execution_count": null,
      "outputs": []
    },
    {
      "cell_type": "markdown",
      "source": [
        "**Download the label files**"
      ],
      "metadata": {
        "id": "m9Whj9lI8q22"
      }
    },
    {
      "cell_type": "code",
      "source": [
        "# Download the labels\n",
        "!wget https://raw.githubusercontent.com/cardiffnlp/tweeteval/main/datasets/sentiment/mapping.txt"
      ],
      "metadata": {
        "id": "B8nYm-ID8t-k"
      },
      "execution_count": null,
      "outputs": []
    },
    {
      "cell_type": "code",
      "source": [
        "labels = []\n",
        "with open('mapping.txt', 'r') as file:\n",
        "    raw = file.read().split(\"\\n\")\n",
        "    for label in raw:\n",
        "      if(len(label)>0):\n",
        "        labels.append(label.split(\"\\t\")[1])\n",
        "labels"
      ],
      "metadata": {
        "colab": {
          "base_uri": "https://localhost:8080/"
        },
        "id": "1lMmw3zE8vga",
        "outputId": "69f6252e-ff66-40ca-c846-a7c08c87ce6f"
      },
      "execution_count": null,
      "outputs": [
        {
          "output_type": "execute_result",
          "data": {
            "text/plain": [
              "['negative', 'neutral', 'positive']"
            ]
          },
          "metadata": {},
          "execution_count": 36
        }
      ]
    },
    {
      "cell_type": "markdown",
      "source": [
        "**Predict using the custom model**"
      ],
      "metadata": {
        "id": "4movE1C8800G"
      }
    },
    {
      "cell_type": "code",
      "source": [
        "data = [\"The service was up to the mark\", \"bad service\"]\n",
        "results=sentiment_pipeline(data)\n",
        "for result in results:\n",
        "  label = int(result['label'].replace('LABEL_',\"\"))\n",
        "  print(labels[label])"
      ],
      "metadata": {
        "colab": {
          "base_uri": "https://localhost:8080/"
        },
        "id": "j5tUeq2T75TX",
        "outputId": "ffd4b372-faba-4cf4-f673-2ad089f9346b"
      },
      "execution_count": null,
      "outputs": [
        {
          "output_type": "stream",
          "name": "stdout",
          "text": [
            "positive\n",
            "negative\n"
          ]
        }
      ]
    },
    {
      "cell_type": "markdown",
      "source": [
        "**Create a Custom Class which case be used as a flask to expose it as a REST Endpoint**"
      ],
      "metadata": {
        "id": "nTcwue73_eI7"
      }
    },
    {
      "cell_type": "code",
      "source": [
        "class SentimentalClassifier:\n",
        "      def __init__(self):\n",
        "        self.pipeline = pipeline(\"sentiment-analysis\")\n",
        "      def Predict(self,text):\n",
        "        if(len(text)>0):\n",
        "          return self.pipeline(text)\n",
        "        else:\n",
        "          return {}"
      ],
      "metadata": {
        "id": "QbG8UTO0_kmR"
      },
      "execution_count": null,
      "outputs": []
    },
    {
      "cell_type": "code",
      "source": [
        "classifier = SentimentalClassifier()\n",
        "classifier.Predict(\"it's working !!\")"
      ],
      "metadata": {
        "colab": {
          "base_uri": "https://localhost:8080/"
        },
        "id": "_2QeEJ-YAeVi",
        "outputId": "865dc4d1-904e-4110-f7fc-a1155bcba3ff"
      },
      "execution_count": 47,
      "outputs": [
        {
          "output_type": "stream",
          "name": "stderr",
          "text": [
            "No model was supplied, defaulted to distilbert-base-uncased-finetuned-sst-2-english and revision af0f99b (https://huggingface.co/distilbert-base-uncased-finetuned-sst-2-english).\n",
            "Using a pipeline without specifying a model name and revision in production is not recommended.\n"
          ]
        },
        {
          "output_type": "execute_result",
          "data": {
            "text/plain": [
              "[{'label': 'POSITIVE', 'score': 0.9997174143791199}]"
            ]
          },
          "metadata": {},
          "execution_count": 47
        }
      ]
    }
  ]
}